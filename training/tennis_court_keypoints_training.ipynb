{
 "cells": [
  {
   "cell_type": "code",
   "execution_count": null,
   "metadata": {},
   "outputs": [],
   "source": [
    "!wget --header=\"Host: drive.usercontent.google.com\" --header=\"User-Agent: Mozilla/5.0 (Windows NT 10.0; Win64; x64) AppleWebKit/537.36 (KHTML, like Gecko) Chrome/126.0.0.0 Safari/537.36\" --header=\"Accept: text/html,application/xhtml+xml,application/xml;q=0.9,image/avif,image/webp,image/apng,*/*;q=0.8,application/signed-exchange;v=b3;q=0.7\" --header=\"Accept-Language: en-US,en;q=0.9\" --header=\"Cookie: S=billing-ui-v3=h4CPvKApXr7xfyiH1nCgl4Z1taeryGGj:billing-ui-v3-efe=h4CPvKApXr7xfyiH1nCgl4Z1taeryGGj; OGPC=19036484-1:; AEC=AVYB7cqu1nBszMFXuCzSX174EDOGE5V5h15GimwLOzGw7onRVVsQ5C1EHg; SID=g.a000lwjyklJJGjIokZv7D_J_k_CANTHmGFw5bRV4Dx0tAgW5E835GB6mp_7wWlmx0bQhrQeMxQACgYKAT0SARQSFQHGX2MiyWCVvdUabMMNSpbaSwjuHhoVAUF8yKp0RXxXofI7ov6ezWTcEs2T0076; __Secure-1PSID=g.a000lwjyklJJGjIokZv7D_J_k_CANTHmGFw5bRV4Dx0tAgW5E835gDCu2aiqh4yDGbH3mmY1qQACgYKARMSARQSFQHGX2Miuv1_ZQrrcKxgx976KXPODBoVAUF8yKp_9kJaK7qhW66hlEt3UUsv0076; __Secure-3PSID=g.a000lwjyklJJGjIokZv7D_J_k_CANTHmGFw5bRV4Dx0tAgW5E835z1S6-pWX9OI9Tx0B9jXqwwACgYKAZoSARQSFQHGX2MiDi4hYPcrrkqtnv6-MvMryRoVAUF8yKq5bAweNeF2uwsGpIRuvYpC0076; HSID=A6OoD3io1OUOrBoHK; SSID=AdMxu73qtXH5T5Wad; APISID=PnSq4bwh4lxTMKi6/ApZatynTDs_lyFU98; SAPISID=Puk8RT9i1nawaBIc/AllL9XqtGu3TR0-cH; __Secure-1PAPISID=Puk8RT9i1nawaBIc/AllL9XqtGu3TR0-cH; __Secure-3PAPISID=Puk8RT9i1nawaBIc/AllL9XqtGu3TR0-cH; NID=516=VbE0AB4bgvTb6JDmwvVc5NTJQeFBzNFUyk-l05lqYMqkogtmiAu7LYt1s92LEKUCm-KvIReWE-uJhpadbVfz3GBv-I5t7Mzu1QeM794Ouxdal_3vcaoRP6EZkeD-G5MIDcflxdLozC-ettufpUIjewPLUbLTaPB0hLH8HslNeMiifG3xJYqz0G74rL6GpZhIk2N9cDxvolInkduKKatY3BT4HGPlU8xVu-Jxd4NjsNX_QVZSfKvUkVMxJhTiik8-cmaIJKMipZDWBpWHGsCXVx7C-Fw0eKxhmRJEj5EAxK7ewpelNsQVoP8KBx15S6rTb12hoFIbeR3YTD2MIZQd9H4Ke7myJs6_4QzkkpquEU7KRKDFIdsTX1XlOqIjVlPIh8PrzaRXq_kpEcBs56_Ibn0Dmjr686GjH8G4j3BAQRi3cMZ8LSmHUkQd3QDck6yr1NJ3IuwMX4a9QaR6gt-LNIo3jw1is1HRbSKGTfTUoNPpaCeCgU4ovxuuRc0hszT5-mFyCzNkSfIQGPPtmTM-s4GZzE7jaNpBkYxYq6ad3lG_6uIshTyTg-_7hami3UP7G9FbSjhSYkgWywizHLJ1x5s841tBqkAg7K3ZRxfpD39Q6fzE2olxQRcMP0C5A3zi1fJUoO2cp0g3oZZQve5-I6igE98gUb8DdUBuhKkhvYyxd7Hg7vKbzu2i2OU0xV_3GlwglAxq6DRt4n7UptA1-IuKLnAXk56dSFCYJ94bWFSXnxpY9oKIocWMrIevrAIzkwFB-EZneapz2OIZS4egSykn0BFCEwNgNaDzwHsJ0Rh3qYo6rgX2dfp4n3cL6GE6h-lINhPJoiO8sl2YUsrU5Y7RwCKTG_eP5QSRPk814F7XvNGSvfPMO3KpTKE9rJps9vYlqeYaykvZI8Ce_YqtcNtJMGvHrL1r7MsXLRLpveG6P8HxLDhhbGTiTYnJfXsFF1Dsh5VtubRg3xWkB-QyhzHj5IrYUf4_oJO8sPXh4BW65eMjFBXyBzZ4qQ6onEO4S5kIqWtakhGASVt4Tq_GvzMAP5xLBz1H_CuxDOIwD6Rp4GTQzmkmDt3pk5tLhTmDUJNBo4dsWIySDL3Gne3_1yl9YNhqiq3LsaUN5SbOD6FVU3Np9UbvB2kYIdQF5dlJ8_HnqT5j8bz1CndPktPclHD9eZpXFIFSkfgudf0gdeLraNei4z4gslyv5EwxMwGDFRIRYSFDERklFVo7zRBzRg; __Secure-1PSIDTS=sidts-CjIB4E2dkTe6suohfzrXF8b7ZmpT_y6bCh4w9n8kBon2PzSRWB7Z7s9_EQTBGDvNZMFnOBAA; __Secure-3PSIDTS=sidts-CjIB4E2dkTe6suohfzrXF8b7ZmpT_y6bCh4w9n8kBon2PzSRWB7Z7s9_EQTBGDvNZMFnOBAA; SIDCC=AKEyXzXiz1v5iaN2Dp0bLhiVOOU1JXU6XC2_9klvQ5jTI1xdypoCNDdF6G5UMmpZ1Cb6S0ikmsQ; __Secure-1PSIDCC=AKEyXzUIG2eOvylIz1toxL-Q13EPpHQt1o-fdyIkX_Pyy7fBwLdiGjm9YJW0LQT3w1DZ0UJ9Rg; __Secure-3PSIDCC=AKEyXzUxN947uOllQ31vT5g84vYsQ8xtfI0-sxbWqmIAOl3rKqrr2tUKaoy675iq0ppe9aNDvg\" --header=\"Connection: keep-alive\" \"https://drive.usercontent.google.com/download?id=1lhAaeQCmk2y440PmagA0KmIVBIysVMwu&export=download&authuser=0&confirm=t&uuid=3077628e-fc9b-4ef2-8cde-b291040afb30&at=APZUnTWXIykCXoukaq80QfmocyDW%3A1721301936043\" -c -O 'tennis_court_det_dataset.zip'"
   ]
  },
  {
   "cell_type": "code",
   "execution_count": null,
   "metadata": {},
   "outputs": [],
   "source": [
    "!unzip tennis_court_det_dataset.zip"
   ]
  },
  {
   "cell_type": "code",
   "execution_count": null,
   "metadata": {},
   "outputs": [],
   "source": []
  },
  {
   "cell_type": "markdown",
   "metadata": {},
   "source": [
    "# Start code"
   ]
  },
  {
   "cell_type": "code",
   "execution_count": 3,
   "metadata": {},
   "outputs": [],
   "source": [
    "import torch\n",
    "from torch.utils.data import Dataset, DataLoader\n",
    "from torchvision import models, transforms\n",
    "\n",
    "import json\n",
    "import cv2\n",
    "import numpy as np"
   ]
  },
  {
   "cell_type": "code",
   "execution_count": 4,
   "metadata": {},
   "outputs": [],
   "source": [
    "device = torch.device(\"cuda\" if torch.cuda.is_available() else \"cpu\")"
   ]
  },
  {
   "cell_type": "code",
   "execution_count": null,
   "metadata": {},
   "outputs": [],
   "source": []
  },
  {
   "cell_type": "markdown",
   "metadata": {},
   "source": [
    "# Create Torch Dataset"
   ]
  },
  {
   "cell_type": "code",
   "execution_count": 5,
   "metadata": {},
   "outputs": [],
   "source": [
    "class KeypointsDataset(Dataset):\n",
    "    def __init__(self, img_dir, data_file):\n",
    "        self.img_dir = img_dir\n",
    "        with open(data_file, \"r\") as f:\n",
    "            self.data = json.load(f)\n",
    "        \n",
    "        self.transforms = transforms.Compose([\n",
    "            transforms.ToPILImage(),\n",
    "            transforms.Resize((224, 224)),\n",
    "            transforms.ToTensor(),\n",
    "            transforms.Normalize(mean=[0.485, 0.456, 0.406], std=[0.229, 0.224, 0.225])\n",
    "        ])\n",
    "    \n",
    "    def __len__(self):\n",
    "        return len(self.data)\n",
    "    \n",
    "    def __getitem__(self, idx):\n",
    "        item = self.data[idx]\n",
    "        img = cv2.imread(f\"{self.img_dir}/{item['id']}.png\")\n",
    "        h,w = img.shape[:2]\n",
    "\n",
    "        img = cv2.cvtColor(img, cv2.COLOR_BGR2RGB)\n",
    "        img = self.transforms(img)\n",
    "        kps = np.array(item['kps']).flatten()\n",
    "        kps = kps.astype(np.float32)\n",
    "\n",
    "        kps[::2] *= 224.0 / w # Adjust x coordinates\n",
    "        kps[1::2] *= 224.0 / h # Adjust y coordinates\n",
    "\n",
    "        return img, kps"
   ]
  },
  {
   "cell_type": "code",
   "execution_count": null,
   "metadata": {},
   "outputs": [],
   "source": [
    "\n",
    "train_dataset = KeypointsDataset(\"data/images\",\"data/data_train.json\")\n",
    "val_dataset = KeypointsDataset(\"data/images\",\"data/data_val.json\")\n",
    "\n",
    "train_loader = DataLoader(train_dataset, batch_size=8, shuffle=True)\n",
    "val_loader = DataLoader(val_dataset, batch_size=8, shuffle=True)\n"
   ]
  },
  {
   "cell_type": "code",
   "execution_count": null,
   "metadata": {},
   "outputs": [],
   "source": []
  },
  {
   "cell_type": "markdown",
   "metadata": {},
   "source": [
    "# Create model"
   ]
  },
  {
   "cell_type": "code",
   "execution_count": null,
   "metadata": {},
   "outputs": [],
   "source": [
    "model = models.resnet50(pretrained=True)\n",
    "model.fc =  torch.nn.Linear(model.fc.in_features, 14*2) # Replaces the last layer"
   ]
  },
  {
   "cell_type": "code",
   "execution_count": null,
   "metadata": {},
   "outputs": [],
   "source": [
    "model = model.to(device)"
   ]
  },
  {
   "cell_type": "code",
   "execution_count": null,
   "metadata": {},
   "outputs": [],
   "source": []
  },
  {
   "cell_type": "markdown",
   "metadata": {},
   "source": [
    "# Train model"
   ]
  },
  {
   "cell_type": "code",
   "execution_count": null,
   "metadata": {},
   "outputs": [],
   "source": [
    "criterion = torch.nn.MSELoss()\n",
    "optimizer = torch.optim.Adam(model.parameters(), lr=1e-4)"
   ]
  },
  {
   "cell_type": "code",
   "execution_count": null,
   "metadata": {},
   "outputs": [],
   "source": [
    "epochs=20\n",
    "for epoch in range(epochs):\n",
    "    for i, (img,kps) in enumerate(train_loader):\n",
    "        img = img.to(device)\n",
    "        kps = kps.to(device)\n",
    "\n",
    "        optimizer.zero_grad()\n",
    "        outputs = model(img)\n",
    "        loss = criterion(outputs, kps)\n",
    "        loss.backward()\n",
    "        optimizer.step()\n",
    "\n",
    "        if i % 10 == 0:\n",
    "            print(f\"Epoch {epoch}, iter {i}, loss: {loss.item()}\")"
   ]
  },
  {
   "cell_type": "code",
   "execution_count": null,
   "metadata": {},
   "outputs": [],
   "source": [
    "torch.save(model.stat_dict(), \"keypoints_model.pth\")"
   ]
  },
  {
   "cell_type": "code",
   "execution_count": null,
   "metadata": {},
   "outputs": [],
   "source": []
  }
 ],
 "metadata": {
  "kernelspec": {
   "display_name": "cv_env",
   "language": "python",
   "name": "python3"
  },
  "language_info": {
   "codemirror_mode": {
    "name": "ipython",
    "version": 3
   },
   "file_extension": ".py",
   "mimetype": "text/x-python",
   "name": "python",
   "nbconvert_exporter": "python",
   "pygments_lexer": "ipython3",
   "version": "3.8.10"
  }
 },
 "nbformat": 4,
 "nbformat_minor": 2
}
